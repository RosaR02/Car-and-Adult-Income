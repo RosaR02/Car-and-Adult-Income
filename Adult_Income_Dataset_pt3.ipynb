{
  "nbformat": 4,
  "nbformat_minor": 0,
  "metadata": {
    "colab": {
      "provenance": [],
      "authorship_tag": "ABX9TyMKSd0yRDslYNpGb0k8S5/S",
      "include_colab_link": true
    },
    "kernelspec": {
      "name": "python3",
      "display_name": "Python 3"
    },
    "language_info": {
      "name": "python"
    }
  },
  "cells": [
    {
      "cell_type": "markdown",
      "metadata": {
        "id": "view-in-github",
        "colab_type": "text"
      },
      "source": [
        "<a href=\"https://colab.research.google.com/github/RosaR02/Car-and-Adult-Income/blob/main/Adult_Income_Dataset_pt3.ipynb\" target=\"_parent\"><img src=\"https://colab.research.google.com/assets/colab-badge.svg\" alt=\"Open In Colab\"/></a>"
      ]
    },
    {
      "cell_type": "markdown",
      "source": [
        "##Adult Income Dataset"
      ],
      "metadata": {
        "id": "mZJNOpWqMIOC"
      }
    },
    {
      "cell_type": "markdown",
      "source": [
        "1. Source of data- Kaggle\n",
        "\n",
        "2. Brief description of data- The data describes the features related to adult incomes.\n",
        "\n",
        "3. What is the target? Income\n",
        "\n",
        "4. What does one row represent? (A person? A business? An event? A product?) A person\n",
        "\n",
        "5. Is this a classification or regression problem? A Regression\n",
        "\n",
        "6. How many features does the data have? 19\n",
        "\n",
        "7. How many rows are in the dataset? 1000\n",
        "\n",
        "8. What, if any, challenges do you foresee in cleaning, exploring, or modeling this dataset? I don't see any at the moment."
      ],
      "metadata": {
        "id": "mqMTs3XbMKAB"
      }
    },
    {
      "cell_type": "code",
      "execution_count": 165,
      "metadata": {
        "id": "cS-bLsyoK0Kh"
      },
      "outputs": [],
      "source": [
        "import pandas as pd\n",
        "import numpy as np\n",
        "import matplotlib.pyplot as plt\n",
        "import seaborn as sns\n",
        "import warnings\n",
        "\n",
        "from sklearn.model_selection import train_test_split\n"
      ]
    },
    {
      "cell_type": "code",
      "source": [
        "\"\"\"UNIVARIATE PLOTTING FUNCTIONS FOR EDA\"\"\"\n",
        "# Add the print statements to the function\n",
        "def explore_categorical(df, x, fillna = True, placeholder = 'MISSING',\n",
        "                        figsize = (6,4), order = None):\n",
        "  \"\"\"Creates a seaborn countplot with the option to temporarily fill missing values\n",
        "  Prints statements about null values, cardinality, and checks for\n",
        "  constant/quasi-constant features.\n",
        "  Source:{PASTE IN FINAL LESSON LINK}\n",
        "  \"\"\"\n",
        "  # Make a copy of the dataframe and fillna\n",
        "  temp_df = df.copy()\n",
        "  # Before filling nulls, save null value counts and percent for printing\n",
        "  null_count = temp_df[x].isna().sum()\n",
        "  null_perc = null_count/len(temp_df)* 100\n",
        "  # fillna with placeholder\n",
        "  if fillna == True:\n",
        "    temp_df[x] = temp_df[x].fillna(placeholder)\n",
        "  # Create figure with desired figsize\n",
        "  fig, ax = plt.subplots(figsize=figsize)\n",
        "  # Plotting a count plot\n",
        "  sns.countplot(data=temp_df, x=x, ax=ax, order=order)\n",
        "  # Rotate Tick Labels for long names\n",
        "  ax.set_xticklabels(ax.get_xticklabels(), rotation=45, ha='right')\n",
        "  # Add a title with the feature name included\n",
        "  ax.set_title(f\"Column: {x}\", fontweight='bold')\n",
        "\n",
        "  # Fix layout and show plot (before print statements)\n",
        "  fig.tight_layout()\n",
        "  plt.show()\n",
        "\n",
        "  # Print null value info\n",
        "  print(f\"- NaN's Found: {null_count} ({round(null_perc,2)}%)\")\n",
        "  # Print cardinality info\n",
        "  nunique = temp_df[x].nunique()\n",
        "  print(f\"- Unique Values: {nunique}\")\n",
        "  # First find value counts of feature\n",
        "  val_counts = temp_df[x].value_counts(dropna=False)\n",
        "  # Define the most common value\n",
        "  most_common_val = val_counts.index[0]\n",
        "  # Define the frequency of the most common value\n",
        "  freq = val_counts.values[0]\n",
        "  # Calculate the percentage of the most common value\n",
        "  perc_most_common = freq / len(temp_df) * 100\n",
        "  # Print the results\n",
        "  print(f\"- Most common value: '{most_common_val}' occurs {freq} times ({round(perc_most_common,2)}%)\")\n",
        "  # print message if quasi-constant or constant (most common val more than 98% of data)\n",
        "  if perc_most_common > 98:\n",
        "    print(f\"\\n- [!] Warning: '{x}' is a constant or quasi-constant feature and should be dropped.\")\n",
        "  else:\n",
        "    print(\"- Not constant or quasi-constant.\")\n",
        "  return fig, ax\n",
        "\n",
        "\n",
        "# TO DO: add the new print statements from explore_categorical\n",
        "def explore_numeric(df, x, figsize=(6,5) ):\n",
        "  \"\"\"Creates a seaborn histplot and boxplot with a share x-axis,\n",
        "  Prints statements about null values, cardinality, and checks for\n",
        "  constant/quasi-constant features.\n",
        "  Source:{PASTE IN FINAL LESSON LINK}\n",
        "  \"\"\"\n",
        "\n",
        "  ## Save null value counts and percent for printing\n",
        "  null_count = df[x].isna().sum()\n",
        "  null_perc = null_count/len(df)* 100\n",
        "\n",
        "\n",
        "  ## Making our figure with gridspec for subplots\n",
        "  gridspec = {'height_ratios':[0.7,0.3]}\n",
        "  fig, axes = plt.subplots(nrows=2, figsize=figsize,\n",
        "                           sharex=True, gridspec_kw=gridspec)\n",
        "  # Histogram on Top\n",
        "  sns.histplot(data=df, x=x, ax=axes[0])\n",
        "\n",
        "  # Boxplot on Bottom\n",
        "  sns.boxplot(data=df, x=x, ax=axes[1])\n",
        "\n",
        "  ## Adding a title\n",
        "  axes[0].set_title(f\"Column: {x}\", fontweight='bold')\n",
        "\n",
        "  ## Adjusting subplots to best fill Figure\n",
        "  fig.tight_layout()\n",
        "\n",
        "  # Ensure plot is shown before message\n",
        "  plt.show()\n",
        "\n",
        "\n",
        "  # Print null value info\n",
        "  print(f\"- NaN's Found: {null_count} ({round(null_perc,2)}%)\")\n",
        "  # Print cardinality info\n",
        "  nunique = df[x].nunique()\n",
        "  print(f\"- Unique Values: {nunique}\")\n",
        "\n",
        "\n",
        "  # Get the most most common value, its count as # and as %\n",
        "  most_common_val_count = df[x].value_counts(dropna=False).head(1)\n",
        "  most_common_val = most_common_val_count.index[0]\n",
        "  freq = most_common_val_count.values[0]\n",
        "  perc_most_common = freq / len(df) * 100\n",
        "\n",
        "  print(f\"- Most common value: '{most_common_val}' occurs {freq} times ({round(perc_most_common,2)}%)\")\n",
        "\n",
        "  # print message if quasi-constant or constant (most common val more than 98% of data)\n",
        "  if perc_most_common > 98:\n",
        "    print(f\"\\n- [!] Warning: '{x}' is a constant or quasi-constant feature and should be dropped.\")\n",
        "  else:\n",
        "    print(\"- Not constant or quasi-constant.\")\n",
        "  return fig, axes"
      ],
      "metadata": {
        "id": "yEKQAaZVberD"
      },
      "execution_count": 166,
      "outputs": []
    },
    {
      "cell_type": "markdown",
      "source": [
        "##Loading the data"
      ],
      "metadata": {
        "id": "Jo-vXapGKOOI"
      }
    },
    {
      "cell_type": "code",
      "source": [
        "df = pd.read_csv(\"/content/archive.zip\")\n",
        "df.head(10)"
      ],
      "metadata": {
        "colab": {
          "base_uri": "https://localhost:8080/",
          "height": 598
        },
        "id": "sWjRpsghMa0S",
        "outputId": "cf898449-b691-4c27-a793-2a29b0d400fc"
      },
      "execution_count": 167,
      "outputs": [
        {
          "output_type": "execute_result",
          "data": {
            "text/plain": [
              "   age         workclass  fnlwgt     education  educational-num  \\\n",
              "0   25           Private  226802          11th                7   \n",
              "1   38           Private   89814       HS-grad                9   \n",
              "2   28         Local-gov  336951    Assoc-acdm               12   \n",
              "3   44           Private  160323  Some-college               10   \n",
              "4   18                 ?  103497  Some-college               10   \n",
              "5   34           Private  198693          10th                6   \n",
              "6   29                 ?  227026       HS-grad                9   \n",
              "7   63  Self-emp-not-inc  104626   Prof-school               15   \n",
              "8   24           Private  369667  Some-college               10   \n",
              "9   55           Private  104996       7th-8th                4   \n",
              "\n",
              "       marital-status         occupation   relationship   race  gender  \\\n",
              "0       Never-married  Machine-op-inspct      Own-child  Black    Male   \n",
              "1  Married-civ-spouse    Farming-fishing        Husband  White    Male   \n",
              "2  Married-civ-spouse    Protective-serv        Husband  White    Male   \n",
              "3  Married-civ-spouse  Machine-op-inspct        Husband  Black    Male   \n",
              "4       Never-married                  ?      Own-child  White  Female   \n",
              "5       Never-married      Other-service  Not-in-family  White    Male   \n",
              "6       Never-married                  ?      Unmarried  Black    Male   \n",
              "7  Married-civ-spouse     Prof-specialty        Husband  White    Male   \n",
              "8       Never-married      Other-service      Unmarried  White  Female   \n",
              "9  Married-civ-spouse       Craft-repair        Husband  White    Male   \n",
              "\n",
              "   capital-gain  capital-loss  hours-per-week native-country income  \n",
              "0             0             0              40  United-States  <=50K  \n",
              "1             0             0              50  United-States  <=50K  \n",
              "2             0             0              40  United-States   >50K  \n",
              "3          7688             0              40  United-States   >50K  \n",
              "4             0             0              30  United-States  <=50K  \n",
              "5             0             0              30  United-States  <=50K  \n",
              "6             0             0              40  United-States  <=50K  \n",
              "7          3103             0              32  United-States   >50K  \n",
              "8             0             0              40  United-States  <=50K  \n",
              "9             0             0              10  United-States  <=50K  "
            ],
            "text/html": [
              "\n",
              "  <div id=\"df-409956d2-994d-40fd-9041-4d89808c25a0\">\n",
              "    <div class=\"colab-df-container\">\n",
              "      <div>\n",
              "<style scoped>\n",
              "    .dataframe tbody tr th:only-of-type {\n",
              "        vertical-align: middle;\n",
              "    }\n",
              "\n",
              "    .dataframe tbody tr th {\n",
              "        vertical-align: top;\n",
              "    }\n",
              "\n",
              "    .dataframe thead th {\n",
              "        text-align: right;\n",
              "    }\n",
              "</style>\n",
              "<table border=\"1\" class=\"dataframe\">\n",
              "  <thead>\n",
              "    <tr style=\"text-align: right;\">\n",
              "      <th></th>\n",
              "      <th>age</th>\n",
              "      <th>workclass</th>\n",
              "      <th>fnlwgt</th>\n",
              "      <th>education</th>\n",
              "      <th>educational-num</th>\n",
              "      <th>marital-status</th>\n",
              "      <th>occupation</th>\n",
              "      <th>relationship</th>\n",
              "      <th>race</th>\n",
              "      <th>gender</th>\n",
              "      <th>capital-gain</th>\n",
              "      <th>capital-loss</th>\n",
              "      <th>hours-per-week</th>\n",
              "      <th>native-country</th>\n",
              "      <th>income</th>\n",
              "    </tr>\n",
              "  </thead>\n",
              "  <tbody>\n",
              "    <tr>\n",
              "      <th>0</th>\n",
              "      <td>25</td>\n",
              "      <td>Private</td>\n",
              "      <td>226802</td>\n",
              "      <td>11th</td>\n",
              "      <td>7</td>\n",
              "      <td>Never-married</td>\n",
              "      <td>Machine-op-inspct</td>\n",
              "      <td>Own-child</td>\n",
              "      <td>Black</td>\n",
              "      <td>Male</td>\n",
              "      <td>0</td>\n",
              "      <td>0</td>\n",
              "      <td>40</td>\n",
              "      <td>United-States</td>\n",
              "      <td>&lt;=50K</td>\n",
              "    </tr>\n",
              "    <tr>\n",
              "      <th>1</th>\n",
              "      <td>38</td>\n",
              "      <td>Private</td>\n",
              "      <td>89814</td>\n",
              "      <td>HS-grad</td>\n",
              "      <td>9</td>\n",
              "      <td>Married-civ-spouse</td>\n",
              "      <td>Farming-fishing</td>\n",
              "      <td>Husband</td>\n",
              "      <td>White</td>\n",
              "      <td>Male</td>\n",
              "      <td>0</td>\n",
              "      <td>0</td>\n",
              "      <td>50</td>\n",
              "      <td>United-States</td>\n",
              "      <td>&lt;=50K</td>\n",
              "    </tr>\n",
              "    <tr>\n",
              "      <th>2</th>\n",
              "      <td>28</td>\n",
              "      <td>Local-gov</td>\n",
              "      <td>336951</td>\n",
              "      <td>Assoc-acdm</td>\n",
              "      <td>12</td>\n",
              "      <td>Married-civ-spouse</td>\n",
              "      <td>Protective-serv</td>\n",
              "      <td>Husband</td>\n",
              "      <td>White</td>\n",
              "      <td>Male</td>\n",
              "      <td>0</td>\n",
              "      <td>0</td>\n",
              "      <td>40</td>\n",
              "      <td>United-States</td>\n",
              "      <td>&gt;50K</td>\n",
              "    </tr>\n",
              "    <tr>\n",
              "      <th>3</th>\n",
              "      <td>44</td>\n",
              "      <td>Private</td>\n",
              "      <td>160323</td>\n",
              "      <td>Some-college</td>\n",
              "      <td>10</td>\n",
              "      <td>Married-civ-spouse</td>\n",
              "      <td>Machine-op-inspct</td>\n",
              "      <td>Husband</td>\n",
              "      <td>Black</td>\n",
              "      <td>Male</td>\n",
              "      <td>7688</td>\n",
              "      <td>0</td>\n",
              "      <td>40</td>\n",
              "      <td>United-States</td>\n",
              "      <td>&gt;50K</td>\n",
              "    </tr>\n",
              "    <tr>\n",
              "      <th>4</th>\n",
              "      <td>18</td>\n",
              "      <td>?</td>\n",
              "      <td>103497</td>\n",
              "      <td>Some-college</td>\n",
              "      <td>10</td>\n",
              "      <td>Never-married</td>\n",
              "      <td>?</td>\n",
              "      <td>Own-child</td>\n",
              "      <td>White</td>\n",
              "      <td>Female</td>\n",
              "      <td>0</td>\n",
              "      <td>0</td>\n",
              "      <td>30</td>\n",
              "      <td>United-States</td>\n",
              "      <td>&lt;=50K</td>\n",
              "    </tr>\n",
              "    <tr>\n",
              "      <th>5</th>\n",
              "      <td>34</td>\n",
              "      <td>Private</td>\n",
              "      <td>198693</td>\n",
              "      <td>10th</td>\n",
              "      <td>6</td>\n",
              "      <td>Never-married</td>\n",
              "      <td>Other-service</td>\n",
              "      <td>Not-in-family</td>\n",
              "      <td>White</td>\n",
              "      <td>Male</td>\n",
              "      <td>0</td>\n",
              "      <td>0</td>\n",
              "      <td>30</td>\n",
              "      <td>United-States</td>\n",
              "      <td>&lt;=50K</td>\n",
              "    </tr>\n",
              "    <tr>\n",
              "      <th>6</th>\n",
              "      <td>29</td>\n",
              "      <td>?</td>\n",
              "      <td>227026</td>\n",
              "      <td>HS-grad</td>\n",
              "      <td>9</td>\n",
              "      <td>Never-married</td>\n",
              "      <td>?</td>\n",
              "      <td>Unmarried</td>\n",
              "      <td>Black</td>\n",
              "      <td>Male</td>\n",
              "      <td>0</td>\n",
              "      <td>0</td>\n",
              "      <td>40</td>\n",
              "      <td>United-States</td>\n",
              "      <td>&lt;=50K</td>\n",
              "    </tr>\n",
              "    <tr>\n",
              "      <th>7</th>\n",
              "      <td>63</td>\n",
              "      <td>Self-emp-not-inc</td>\n",
              "      <td>104626</td>\n",
              "      <td>Prof-school</td>\n",
              "      <td>15</td>\n",
              "      <td>Married-civ-spouse</td>\n",
              "      <td>Prof-specialty</td>\n",
              "      <td>Husband</td>\n",
              "      <td>White</td>\n",
              "      <td>Male</td>\n",
              "      <td>3103</td>\n",
              "      <td>0</td>\n",
              "      <td>32</td>\n",
              "      <td>United-States</td>\n",
              "      <td>&gt;50K</td>\n",
              "    </tr>\n",
              "    <tr>\n",
              "      <th>8</th>\n",
              "      <td>24</td>\n",
              "      <td>Private</td>\n",
              "      <td>369667</td>\n",
              "      <td>Some-college</td>\n",
              "      <td>10</td>\n",
              "      <td>Never-married</td>\n",
              "      <td>Other-service</td>\n",
              "      <td>Unmarried</td>\n",
              "      <td>White</td>\n",
              "      <td>Female</td>\n",
              "      <td>0</td>\n",
              "      <td>0</td>\n",
              "      <td>40</td>\n",
              "      <td>United-States</td>\n",
              "      <td>&lt;=50K</td>\n",
              "    </tr>\n",
              "    <tr>\n",
              "      <th>9</th>\n",
              "      <td>55</td>\n",
              "      <td>Private</td>\n",
              "      <td>104996</td>\n",
              "      <td>7th-8th</td>\n",
              "      <td>4</td>\n",
              "      <td>Married-civ-spouse</td>\n",
              "      <td>Craft-repair</td>\n",
              "      <td>Husband</td>\n",
              "      <td>White</td>\n",
              "      <td>Male</td>\n",
              "      <td>0</td>\n",
              "      <td>0</td>\n",
              "      <td>10</td>\n",
              "      <td>United-States</td>\n",
              "      <td>&lt;=50K</td>\n",
              "    </tr>\n",
              "  </tbody>\n",
              "</table>\n",
              "</div>\n",
              "      <button class=\"colab-df-convert\" onclick=\"convertToInteractive('df-409956d2-994d-40fd-9041-4d89808c25a0')\"\n",
              "              title=\"Convert this dataframe to an interactive table.\"\n",
              "              style=\"display:none;\">\n",
              "        \n",
              "  <svg xmlns=\"http://www.w3.org/2000/svg\" height=\"24px\"viewBox=\"0 0 24 24\"\n",
              "       width=\"24px\">\n",
              "    <path d=\"M0 0h24v24H0V0z\" fill=\"none\"/>\n",
              "    <path d=\"M18.56 5.44l.94 2.06.94-2.06 2.06-.94-2.06-.94-.94-2.06-.94 2.06-2.06.94zm-11 1L8.5 8.5l.94-2.06 2.06-.94-2.06-.94L8.5 2.5l-.94 2.06-2.06.94zm10 10l.94 2.06.94-2.06 2.06-.94-2.06-.94-.94-2.06-.94 2.06-2.06.94z\"/><path d=\"M17.41 7.96l-1.37-1.37c-.4-.4-.92-.59-1.43-.59-.52 0-1.04.2-1.43.59L10.3 9.45l-7.72 7.72c-.78.78-.78 2.05 0 2.83L4 21.41c.39.39.9.59 1.41.59.51 0 1.02-.2 1.41-.59l7.78-7.78 2.81-2.81c.8-.78.8-2.07 0-2.86zM5.41 20L4 18.59l7.72-7.72 1.47 1.35L5.41 20z\"/>\n",
              "  </svg>\n",
              "      </button>\n",
              "      \n",
              "  <style>\n",
              "    .colab-df-container {\n",
              "      display:flex;\n",
              "      flex-wrap:wrap;\n",
              "      gap: 12px;\n",
              "    }\n",
              "\n",
              "    .colab-df-convert {\n",
              "      background-color: #E8F0FE;\n",
              "      border: none;\n",
              "      border-radius: 50%;\n",
              "      cursor: pointer;\n",
              "      display: none;\n",
              "      fill: #1967D2;\n",
              "      height: 32px;\n",
              "      padding: 0 0 0 0;\n",
              "      width: 32px;\n",
              "    }\n",
              "\n",
              "    .colab-df-convert:hover {\n",
              "      background-color: #E2EBFA;\n",
              "      box-shadow: 0px 1px 2px rgba(60, 64, 67, 0.3), 0px 1px 3px 1px rgba(60, 64, 67, 0.15);\n",
              "      fill: #174EA6;\n",
              "    }\n",
              "\n",
              "    [theme=dark] .colab-df-convert {\n",
              "      background-color: #3B4455;\n",
              "      fill: #D2E3FC;\n",
              "    }\n",
              "\n",
              "    [theme=dark] .colab-df-convert:hover {\n",
              "      background-color: #434B5C;\n",
              "      box-shadow: 0px 1px 3px 1px rgba(0, 0, 0, 0.15);\n",
              "      filter: drop-shadow(0px 1px 2px rgba(0, 0, 0, 0.3));\n",
              "      fill: #FFFFFF;\n",
              "    }\n",
              "  </style>\n",
              "\n",
              "      <script>\n",
              "        const buttonEl =\n",
              "          document.querySelector('#df-409956d2-994d-40fd-9041-4d89808c25a0 button.colab-df-convert');\n",
              "        buttonEl.style.display =\n",
              "          google.colab.kernel.accessAllowed ? 'block' : 'none';\n",
              "\n",
              "        async function convertToInteractive(key) {\n",
              "          const element = document.querySelector('#df-409956d2-994d-40fd-9041-4d89808c25a0');\n",
              "          const dataTable =\n",
              "            await google.colab.kernel.invokeFunction('convertToInteractive',\n",
              "                                                     [key], {});\n",
              "          if (!dataTable) return;\n",
              "\n",
              "          const docLinkHtml = 'Like what you see? Visit the ' +\n",
              "            '<a target=\"_blank\" href=https://colab.research.google.com/notebooks/data_table.ipynb>data table notebook</a>'\n",
              "            + ' to learn more about interactive tables.';\n",
              "          element.innerHTML = '';\n",
              "          dataTable['output_type'] = 'display_data';\n",
              "          await google.colab.output.renderOutput(dataTable, element);\n",
              "          const docLink = document.createElement('div');\n",
              "          docLink.innerHTML = docLinkHtml;\n",
              "          element.appendChild(docLink);\n",
              "        }\n",
              "      </script>\n",
              "    </div>\n",
              "  </div>\n",
              "  "
            ]
          },
          "metadata": {},
          "execution_count": 167
        }
      ]
    },
    {
      "cell_type": "code",
      "source": [
        "df.info()"
      ],
      "metadata": {
        "colab": {
          "base_uri": "https://localhost:8080/"
        },
        "id": "kjjJETtjMrE5",
        "outputId": "35f63c47-7e64-4b37-e823-fecaff00544d"
      },
      "execution_count": 168,
      "outputs": [
        {
          "output_type": "stream",
          "name": "stdout",
          "text": [
            "<class 'pandas.core.frame.DataFrame'>\n",
            "RangeIndex: 48842 entries, 0 to 48841\n",
            "Data columns (total 15 columns):\n",
            " #   Column           Non-Null Count  Dtype \n",
            "---  ------           --------------  ----- \n",
            " 0   age              48842 non-null  int64 \n",
            " 1   workclass        48842 non-null  object\n",
            " 2   fnlwgt           48842 non-null  int64 \n",
            " 3   education        48842 non-null  object\n",
            " 4   educational-num  48842 non-null  int64 \n",
            " 5   marital-status   48842 non-null  object\n",
            " 6   occupation       48842 non-null  object\n",
            " 7   relationship     48842 non-null  object\n",
            " 8   race             48842 non-null  object\n",
            " 9   gender           48842 non-null  object\n",
            " 10  capital-gain     48842 non-null  int64 \n",
            " 11  capital-loss     48842 non-null  int64 \n",
            " 12  hours-per-week   48842 non-null  int64 \n",
            " 13  native-country   48842 non-null  object\n",
            " 14  income           48842 non-null  object\n",
            "dtypes: int64(6), object(9)\n",
            "memory usage: 5.6+ MB\n"
          ]
        }
      ]
    },
    {
      "cell_type": "markdown",
      "source": [
        "##Cleaning the data"
      ],
      "metadata": {
        "id": "D_u-rEIrKTFW"
      }
    },
    {
      "cell_type": "code",
      "source": [
        "# Check for duplicates\n",
        "df.duplicated().sum()"
      ],
      "metadata": {
        "colab": {
          "base_uri": "https://localhost:8080/"
        },
        "id": "C_fWA5NmcQFl",
        "outputId": "22c17fbd-f198-4894-9ac2-6a9d57c9b715"
      },
      "execution_count": 169,
      "outputs": [
        {
          "output_type": "execute_result",
          "data": {
            "text/plain": [
              "52"
            ]
          },
          "metadata": {},
          "execution_count": 169
        }
      ]
    },
    {
      "cell_type": "code",
      "source": [
        "## Drop duplicate rows\n",
        "df.drop_duplicates(inplace=True)\n"
      ],
      "metadata": {
        "id": "svp2n5NdcptF"
      },
      "execution_count": 170,
      "outputs": []
    },
    {
      "cell_type": "code",
      "source": [
        "#double checking\n",
        "df.duplicated().sum()"
      ],
      "metadata": {
        "colab": {
          "base_uri": "https://localhost:8080/"
        },
        "id": "6ZKCvmdGcxZ5",
        "outputId": "4d5118c1-cc6c-427a-cee8-4188af6514ae"
      },
      "execution_count": 171,
      "outputs": [
        {
          "output_type": "execute_result",
          "data": {
            "text/plain": [
              "0"
            ]
          },
          "metadata": {},
          "execution_count": 171
        }
      ]
    },
    {
      "cell_type": "code",
      "source": [
        "df.drop(columns=[\"fnlwgt\"], inplace=True) # Dropping these columns in this line of code because they have no analytical value\n",
        "df.drop(columns=[\"educational-num\"], inplace=True)\n",
        "df.drop(columns=[\"capital-gain\"], inplace=True)\n",
        "df.drop(columns=[\"capital-loss\"], inplace=True)\n",
        "df.drop(columns=[\"relationship\"], inplace=True)\n",
        "df.head(10)"
      ],
      "metadata": {
        "colab": {
          "base_uri": "https://localhost:8080/",
          "height": 363
        },
        "id": "zraX-komdDHF",
        "outputId": "8be1d6bc-8116-459b-e9cd-496dc2e979f1"
      },
      "execution_count": 172,
      "outputs": [
        {
          "output_type": "execute_result",
          "data": {
            "text/plain": [
              "   age         workclass     education      marital-status         occupation  \\\n",
              "0   25           Private          11th       Never-married  Machine-op-inspct   \n",
              "1   38           Private       HS-grad  Married-civ-spouse    Farming-fishing   \n",
              "2   28         Local-gov    Assoc-acdm  Married-civ-spouse    Protective-serv   \n",
              "3   44           Private  Some-college  Married-civ-spouse  Machine-op-inspct   \n",
              "4   18                 ?  Some-college       Never-married                  ?   \n",
              "5   34           Private          10th       Never-married      Other-service   \n",
              "6   29                 ?       HS-grad       Never-married                  ?   \n",
              "7   63  Self-emp-not-inc   Prof-school  Married-civ-spouse     Prof-specialty   \n",
              "8   24           Private  Some-college       Never-married      Other-service   \n",
              "9   55           Private       7th-8th  Married-civ-spouse       Craft-repair   \n",
              "\n",
              "    race  gender  hours-per-week native-country income  \n",
              "0  Black    Male              40  United-States  <=50K  \n",
              "1  White    Male              50  United-States  <=50K  \n",
              "2  White    Male              40  United-States   >50K  \n",
              "3  Black    Male              40  United-States   >50K  \n",
              "4  White  Female              30  United-States  <=50K  \n",
              "5  White    Male              30  United-States  <=50K  \n",
              "6  Black    Male              40  United-States  <=50K  \n",
              "7  White    Male              32  United-States   >50K  \n",
              "8  White  Female              40  United-States  <=50K  \n",
              "9  White    Male              10  United-States  <=50K  "
            ],
            "text/html": [
              "\n",
              "  <div id=\"df-ead8c65f-fc58-4919-af0f-6704dc2e392d\">\n",
              "    <div class=\"colab-df-container\">\n",
              "      <div>\n",
              "<style scoped>\n",
              "    .dataframe tbody tr th:only-of-type {\n",
              "        vertical-align: middle;\n",
              "    }\n",
              "\n",
              "    .dataframe tbody tr th {\n",
              "        vertical-align: top;\n",
              "    }\n",
              "\n",
              "    .dataframe thead th {\n",
              "        text-align: right;\n",
              "    }\n",
              "</style>\n",
              "<table border=\"1\" class=\"dataframe\">\n",
              "  <thead>\n",
              "    <tr style=\"text-align: right;\">\n",
              "      <th></th>\n",
              "      <th>age</th>\n",
              "      <th>workclass</th>\n",
              "      <th>education</th>\n",
              "      <th>marital-status</th>\n",
              "      <th>occupation</th>\n",
              "      <th>race</th>\n",
              "      <th>gender</th>\n",
              "      <th>hours-per-week</th>\n",
              "      <th>native-country</th>\n",
              "      <th>income</th>\n",
              "    </tr>\n",
              "  </thead>\n",
              "  <tbody>\n",
              "    <tr>\n",
              "      <th>0</th>\n",
              "      <td>25</td>\n",
              "      <td>Private</td>\n",
              "      <td>11th</td>\n",
              "      <td>Never-married</td>\n",
              "      <td>Machine-op-inspct</td>\n",
              "      <td>Black</td>\n",
              "      <td>Male</td>\n",
              "      <td>40</td>\n",
              "      <td>United-States</td>\n",
              "      <td>&lt;=50K</td>\n",
              "    </tr>\n",
              "    <tr>\n",
              "      <th>1</th>\n",
              "      <td>38</td>\n",
              "      <td>Private</td>\n",
              "      <td>HS-grad</td>\n",
              "      <td>Married-civ-spouse</td>\n",
              "      <td>Farming-fishing</td>\n",
              "      <td>White</td>\n",
              "      <td>Male</td>\n",
              "      <td>50</td>\n",
              "      <td>United-States</td>\n",
              "      <td>&lt;=50K</td>\n",
              "    </tr>\n",
              "    <tr>\n",
              "      <th>2</th>\n",
              "      <td>28</td>\n",
              "      <td>Local-gov</td>\n",
              "      <td>Assoc-acdm</td>\n",
              "      <td>Married-civ-spouse</td>\n",
              "      <td>Protective-serv</td>\n",
              "      <td>White</td>\n",
              "      <td>Male</td>\n",
              "      <td>40</td>\n",
              "      <td>United-States</td>\n",
              "      <td>&gt;50K</td>\n",
              "    </tr>\n",
              "    <tr>\n",
              "      <th>3</th>\n",
              "      <td>44</td>\n",
              "      <td>Private</td>\n",
              "      <td>Some-college</td>\n",
              "      <td>Married-civ-spouse</td>\n",
              "      <td>Machine-op-inspct</td>\n",
              "      <td>Black</td>\n",
              "      <td>Male</td>\n",
              "      <td>40</td>\n",
              "      <td>United-States</td>\n",
              "      <td>&gt;50K</td>\n",
              "    </tr>\n",
              "    <tr>\n",
              "      <th>4</th>\n",
              "      <td>18</td>\n",
              "      <td>?</td>\n",
              "      <td>Some-college</td>\n",
              "      <td>Never-married</td>\n",
              "      <td>?</td>\n",
              "      <td>White</td>\n",
              "      <td>Female</td>\n",
              "      <td>30</td>\n",
              "      <td>United-States</td>\n",
              "      <td>&lt;=50K</td>\n",
              "    </tr>\n",
              "    <tr>\n",
              "      <th>5</th>\n",
              "      <td>34</td>\n",
              "      <td>Private</td>\n",
              "      <td>10th</td>\n",
              "      <td>Never-married</td>\n",
              "      <td>Other-service</td>\n",
              "      <td>White</td>\n",
              "      <td>Male</td>\n",
              "      <td>30</td>\n",
              "      <td>United-States</td>\n",
              "      <td>&lt;=50K</td>\n",
              "    </tr>\n",
              "    <tr>\n",
              "      <th>6</th>\n",
              "      <td>29</td>\n",
              "      <td>?</td>\n",
              "      <td>HS-grad</td>\n",
              "      <td>Never-married</td>\n",
              "      <td>?</td>\n",
              "      <td>Black</td>\n",
              "      <td>Male</td>\n",
              "      <td>40</td>\n",
              "      <td>United-States</td>\n",
              "      <td>&lt;=50K</td>\n",
              "    </tr>\n",
              "    <tr>\n",
              "      <th>7</th>\n",
              "      <td>63</td>\n",
              "      <td>Self-emp-not-inc</td>\n",
              "      <td>Prof-school</td>\n",
              "      <td>Married-civ-spouse</td>\n",
              "      <td>Prof-specialty</td>\n",
              "      <td>White</td>\n",
              "      <td>Male</td>\n",
              "      <td>32</td>\n",
              "      <td>United-States</td>\n",
              "      <td>&gt;50K</td>\n",
              "    </tr>\n",
              "    <tr>\n",
              "      <th>8</th>\n",
              "      <td>24</td>\n",
              "      <td>Private</td>\n",
              "      <td>Some-college</td>\n",
              "      <td>Never-married</td>\n",
              "      <td>Other-service</td>\n",
              "      <td>White</td>\n",
              "      <td>Female</td>\n",
              "      <td>40</td>\n",
              "      <td>United-States</td>\n",
              "      <td>&lt;=50K</td>\n",
              "    </tr>\n",
              "    <tr>\n",
              "      <th>9</th>\n",
              "      <td>55</td>\n",
              "      <td>Private</td>\n",
              "      <td>7th-8th</td>\n",
              "      <td>Married-civ-spouse</td>\n",
              "      <td>Craft-repair</td>\n",
              "      <td>White</td>\n",
              "      <td>Male</td>\n",
              "      <td>10</td>\n",
              "      <td>United-States</td>\n",
              "      <td>&lt;=50K</td>\n",
              "    </tr>\n",
              "  </tbody>\n",
              "</table>\n",
              "</div>\n",
              "      <button class=\"colab-df-convert\" onclick=\"convertToInteractive('df-ead8c65f-fc58-4919-af0f-6704dc2e392d')\"\n",
              "              title=\"Convert this dataframe to an interactive table.\"\n",
              "              style=\"display:none;\">\n",
              "        \n",
              "  <svg xmlns=\"http://www.w3.org/2000/svg\" height=\"24px\"viewBox=\"0 0 24 24\"\n",
              "       width=\"24px\">\n",
              "    <path d=\"M0 0h24v24H0V0z\" fill=\"none\"/>\n",
              "    <path d=\"M18.56 5.44l.94 2.06.94-2.06 2.06-.94-2.06-.94-.94-2.06-.94 2.06-2.06.94zm-11 1L8.5 8.5l.94-2.06 2.06-.94-2.06-.94L8.5 2.5l-.94 2.06-2.06.94zm10 10l.94 2.06.94-2.06 2.06-.94-2.06-.94-.94-2.06-.94 2.06-2.06.94z\"/><path d=\"M17.41 7.96l-1.37-1.37c-.4-.4-.92-.59-1.43-.59-.52 0-1.04.2-1.43.59L10.3 9.45l-7.72 7.72c-.78.78-.78 2.05 0 2.83L4 21.41c.39.39.9.59 1.41.59.51 0 1.02-.2 1.41-.59l7.78-7.78 2.81-2.81c.8-.78.8-2.07 0-2.86zM5.41 20L4 18.59l7.72-7.72 1.47 1.35L5.41 20z\"/>\n",
              "  </svg>\n",
              "      </button>\n",
              "      \n",
              "  <style>\n",
              "    .colab-df-container {\n",
              "      display:flex;\n",
              "      flex-wrap:wrap;\n",
              "      gap: 12px;\n",
              "    }\n",
              "\n",
              "    .colab-df-convert {\n",
              "      background-color: #E8F0FE;\n",
              "      border: none;\n",
              "      border-radius: 50%;\n",
              "      cursor: pointer;\n",
              "      display: none;\n",
              "      fill: #1967D2;\n",
              "      height: 32px;\n",
              "      padding: 0 0 0 0;\n",
              "      width: 32px;\n",
              "    }\n",
              "\n",
              "    .colab-df-convert:hover {\n",
              "      background-color: #E2EBFA;\n",
              "      box-shadow: 0px 1px 2px rgba(60, 64, 67, 0.3), 0px 1px 3px 1px rgba(60, 64, 67, 0.15);\n",
              "      fill: #174EA6;\n",
              "    }\n",
              "\n",
              "    [theme=dark] .colab-df-convert {\n",
              "      background-color: #3B4455;\n",
              "      fill: #D2E3FC;\n",
              "    }\n",
              "\n",
              "    [theme=dark] .colab-df-convert:hover {\n",
              "      background-color: #434B5C;\n",
              "      box-shadow: 0px 1px 3px 1px rgba(0, 0, 0, 0.15);\n",
              "      filter: drop-shadow(0px 1px 2px rgba(0, 0, 0, 0.3));\n",
              "      fill: #FFFFFF;\n",
              "    }\n",
              "  </style>\n",
              "\n",
              "      <script>\n",
              "        const buttonEl =\n",
              "          document.querySelector('#df-ead8c65f-fc58-4919-af0f-6704dc2e392d button.colab-df-convert');\n",
              "        buttonEl.style.display =\n",
              "          google.colab.kernel.accessAllowed ? 'block' : 'none';\n",
              "\n",
              "        async function convertToInteractive(key) {\n",
              "          const element = document.querySelector('#df-ead8c65f-fc58-4919-af0f-6704dc2e392d');\n",
              "          const dataTable =\n",
              "            await google.colab.kernel.invokeFunction('convertToInteractive',\n",
              "                                                     [key], {});\n",
              "          if (!dataTable) return;\n",
              "\n",
              "          const docLinkHtml = 'Like what you see? Visit the ' +\n",
              "            '<a target=\"_blank\" href=https://colab.research.google.com/notebooks/data_table.ipynb>data table notebook</a>'\n",
              "            + ' to learn more about interactive tables.';\n",
              "          element.innerHTML = '';\n",
              "          dataTable['output_type'] = 'display_data';\n",
              "          await google.colab.output.renderOutput(dataTable, element);\n",
              "          const docLink = document.createElement('div');\n",
              "          docLink.innerHTML = docLinkHtml;\n",
              "          element.appendChild(docLink);\n",
              "        }\n",
              "      </script>\n",
              "    </div>\n",
              "  </div>\n",
              "  "
            ]
          },
          "metadata": {},
          "execution_count": 172
        }
      ]
    },
    {
      "cell_type": "markdown",
      "source": [
        "##Identify and address missing values"
      ],
      "metadata": {
        "id": "uwh0roUmeuHi"
      }
    },
    {
      "cell_type": "code",
      "source": [
        "df.isna().sum()"
      ],
      "metadata": {
        "colab": {
          "base_uri": "https://localhost:8080/"
        },
        "id": "oGWup3TBeyRT",
        "outputId": "74621727-4e39-4c4a-9aba-42c4d73f0a81"
      },
      "execution_count": 173,
      "outputs": [
        {
          "output_type": "execute_result",
          "data": {
            "text/plain": [
              "age               0\n",
              "workclass         0\n",
              "education         0\n",
              "marital-status    0\n",
              "occupation        0\n",
              "race              0\n",
              "gender            0\n",
              "hours-per-week    0\n",
              "native-country    0\n",
              "income            0\n",
              "dtype: int64"
            ]
          },
          "metadata": {},
          "execution_count": 173
        }
      ]
    },
    {
      "cell_type": "code",
      "source": [
        "df.info()"
      ],
      "metadata": {
        "colab": {
          "base_uri": "https://localhost:8080/"
        },
        "id": "PLDCkiYB_iuG",
        "outputId": "8ab902a8-2a3a-4997-abd7-0104a0a7cdad"
      },
      "execution_count": 174,
      "outputs": [
        {
          "output_type": "stream",
          "name": "stdout",
          "text": [
            "<class 'pandas.core.frame.DataFrame'>\n",
            "Int64Index: 48790 entries, 0 to 48841\n",
            "Data columns (total 10 columns):\n",
            " #   Column          Non-Null Count  Dtype \n",
            "---  ------          --------------  ----- \n",
            " 0   age             48790 non-null  int64 \n",
            " 1   workclass       48790 non-null  object\n",
            " 2   education       48790 non-null  object\n",
            " 3   marital-status  48790 non-null  object\n",
            " 4   occupation      48790 non-null  object\n",
            " 5   race            48790 non-null  object\n",
            " 6   gender          48790 non-null  object\n",
            " 7   hours-per-week  48790 non-null  int64 \n",
            " 8   native-country  48790 non-null  object\n",
            " 9   income          48790 non-null  object\n",
            "dtypes: int64(2), object(8)\n",
            "memory usage: 4.1+ MB\n"
          ]
        }
      ]
    },
    {
      "cell_type": "code",
      "source": [
        "df['race'].value_counts()"
      ],
      "metadata": {
        "colab": {
          "base_uri": "https://localhost:8080/"
        },
        "id": "g1svMB2uEFT_",
        "outputId": "79847a2e-5f85-42db-ab0a-2313b6ad3857"
      },
      "execution_count": 175,
      "outputs": [
        {
          "output_type": "execute_result",
          "data": {
            "text/plain": [
              "White                 41714\n",
              "Black                  4683\n",
              "Asian-Pac-Islander     1517\n",
              "Amer-Indian-Eskimo      470\n",
              "Other                   406\n",
              "Name: race, dtype: int64"
            ]
          },
          "metadata": {},
          "execution_count": 175
        }
      ]
    },
    {
      "cell_type": "code",
      "source": [
        "df['education'].value_counts()"
      ],
      "metadata": {
        "colab": {
          "base_uri": "https://localhost:8080/"
        },
        "id": "15uyglFxEbUR",
        "outputId": "c4229d59-4d46-49c6-afcf-ea42f5923cbd"
      },
      "execution_count": 176,
      "outputs": [
        {
          "output_type": "execute_result",
          "data": {
            "text/plain": [
              "HS-grad         15770\n",
              "Some-college    10863\n",
              "Bachelors        8013\n",
              "Masters          2656\n",
              "Assoc-voc        2060\n",
              "11th             1812\n",
              "Assoc-acdm       1601\n",
              "10th             1389\n",
              "7th-8th           954\n",
              "Prof-school       834\n",
              "9th               756\n",
              "12th              655\n",
              "Doctorate         594\n",
              "5th-6th           507\n",
              "1st-4th           245\n",
              "Preschool          81\n",
              "Name: education, dtype: int64"
            ]
          },
          "metadata": {},
          "execution_count": 176
        }
      ]
    },
    {
      "cell_type": "code",
      "source": [
        "df[\"education\"] = df[\"education\"].replace(\"9th\",\"HS\")\n",
        "df[\"education\"] = df[\"education\"].replace(\"10th\",\"HS\")\n",
        "df[\"education\"] = df[\"education\"].replace(\"11th\",\"HS\")\n",
        "df[\"education\"] = df[\"education\"].replace(\"12th\",\"HS\")\n",
        "df[\"education\"] = df[\"education\"].replace(\"1st-4th\",\"ELEM\")\n",
        "df[\"education\"] = df[\"education\"].replace(\"5th-6th\",\"ELEM\")\n",
        "df[\"education\"] = df[\"education\"].replace(\"7th-8th\",\"MIDDLE\")"
      ],
      "metadata": {
        "id": "bTLOu6DHcUN5"
      },
      "execution_count": 177,
      "outputs": []
    },
    {
      "cell_type": "code",
      "source": [
        "df['education'].value_counts()"
      ],
      "metadata": {
        "colab": {
          "base_uri": "https://localhost:8080/"
        },
        "id": "EHIggFaacizp",
        "outputId": "19986a6e-a186-443f-c738-4bbe4937fe93"
      },
      "execution_count": 178,
      "outputs": [
        {
          "output_type": "execute_result",
          "data": {
            "text/plain": [
              "HS-grad         15770\n",
              "Some-college    10863\n",
              "Bachelors        8013\n",
              "HS               4612\n",
              "Masters          2656\n",
              "Assoc-voc        2060\n",
              "Assoc-acdm       1601\n",
              "MIDDLE            954\n",
              "Prof-school       834\n",
              "ELEM              752\n",
              "Doctorate         594\n",
              "Preschool          81\n",
              "Name: education, dtype: int64"
            ]
          },
          "metadata": {},
          "execution_count": 178
        }
      ]
    },
    {
      "cell_type": "code",
      "source": [
        "df.drop(df[df['education'] == 'Preschool'].index, inplace = True)\n",
        "df.drop(df[df['education'] == 'MIDDLE'].index, inplace = True)\n",
        "df.drop(df[df['education'] == 'ELEM'].index, inplace = True)"
      ],
      "metadata": {
        "id": "-FCxsNYav8qN"
      },
      "execution_count": 179,
      "outputs": []
    },
    {
      "cell_type": "code",
      "source": [
        "df['occupation'].value_counts()"
      ],
      "metadata": {
        "colab": {
          "base_uri": "https://localhost:8080/"
        },
        "id": "FkB4stVyEzkG",
        "outputId": "3d1cd923-af4f-4df8-fa8a-fd10ea6d0cf9"
      },
      "execution_count": 180,
      "outputs": [
        {
          "output_type": "execute_result",
          "data": {
            "text/plain": [
              "Prof-specialty       6145\n",
              "Exec-managerial      6041\n",
              "Craft-repair         5826\n",
              "Adm-clerical         5569\n",
              "Sales                5434\n",
              "Other-service        4595\n",
              "Machine-op-inspct    2745\n",
              "?                    2625\n",
              "Transport-moving     2216\n",
              "Handlers-cleaners    1916\n",
              "Tech-support         1438\n",
              "Farming-fishing      1280\n",
              "Protective-serv       969\n",
              "Priv-house-serv       189\n",
              "Armed-Forces           15\n",
              "Name: occupation, dtype: int64"
            ]
          },
          "metadata": {},
          "execution_count": 180
        }
      ]
    },
    {
      "cell_type": "code",
      "source": [
        "df[\"occupation\"] = df[\"occupation\"].replace(\"?\",\"Other\")\n",
        "df[\"occupation\"].value_counts()"
      ],
      "metadata": {
        "colab": {
          "base_uri": "https://localhost:8080/"
        },
        "id": "ie3tb3tWFtwh",
        "outputId": "7d0b60e8-6bae-4930-9941-0eab2e2d520c"
      },
      "execution_count": 181,
      "outputs": [
        {
          "output_type": "execute_result",
          "data": {
            "text/plain": [
              "Prof-specialty       6145\n",
              "Exec-managerial      6041\n",
              "Craft-repair         5826\n",
              "Adm-clerical         5569\n",
              "Sales                5434\n",
              "Other-service        4595\n",
              "Machine-op-inspct    2745\n",
              "Other                2625\n",
              "Transport-moving     2216\n",
              "Handlers-cleaners    1916\n",
              "Tech-support         1438\n",
              "Farming-fishing      1280\n",
              "Protective-serv       969\n",
              "Priv-house-serv       189\n",
              "Armed-Forces           15\n",
              "Name: occupation, dtype: int64"
            ]
          },
          "metadata": {},
          "execution_count": 181
        }
      ]
    },
    {
      "cell_type": "code",
      "source": [
        "df.info()"
      ],
      "metadata": {
        "colab": {
          "base_uri": "https://localhost:8080/"
        },
        "id": "oB0ymOxFG0X7",
        "outputId": "4dc82e09-b2c8-4b51-d656-b370ffe689d3"
      },
      "execution_count": 182,
      "outputs": [
        {
          "output_type": "stream",
          "name": "stdout",
          "text": [
            "<class 'pandas.core.frame.DataFrame'>\n",
            "Int64Index: 47003 entries, 0 to 48841\n",
            "Data columns (total 10 columns):\n",
            " #   Column          Non-Null Count  Dtype \n",
            "---  ------          --------------  ----- \n",
            " 0   age             47003 non-null  int64 \n",
            " 1   workclass       47003 non-null  object\n",
            " 2   education       47003 non-null  object\n",
            " 3   marital-status  47003 non-null  object\n",
            " 4   occupation      47003 non-null  object\n",
            " 5   race            47003 non-null  object\n",
            " 6   gender          47003 non-null  object\n",
            " 7   hours-per-week  47003 non-null  int64 \n",
            " 8   native-country  47003 non-null  object\n",
            " 9   income          47003 non-null  object\n",
            "dtypes: int64(2), object(8)\n",
            "memory usage: 3.9+ MB\n"
          ]
        }
      ]
    },
    {
      "cell_type": "code",
      "source": [
        "df['workclass'].value_counts()"
      ],
      "metadata": {
        "colab": {
          "base_uri": "https://localhost:8080/"
        },
        "id": "IobQF6aELrc3",
        "outputId": "e890d2f8-76a0-44cd-c4e6-7b66afb66400"
      },
      "execution_count": 183,
      "outputs": [
        {
          "output_type": "execute_result",
          "data": {
            "text/plain": [
              "Private             32568\n",
              "Self-emp-not-inc     3669\n",
              "Local-gov            3074\n",
              "?                    2616\n",
              "State-gov            1958\n",
              "Self-emp-inc         1664\n",
              "Federal-gov          1426\n",
              "Without-pay            19\n",
              "Never-worked            9\n",
              "Name: workclass, dtype: int64"
            ]
          },
          "metadata": {},
          "execution_count": 183
        }
      ]
    },
    {
      "cell_type": "code",
      "source": [
        "df[\"workclass\"] = df[\"workclass\"].replace(\"?\",\"Other\")\n",
        "df[\"workclass\"].value_counts()"
      ],
      "metadata": {
        "colab": {
          "base_uri": "https://localhost:8080/"
        },
        "id": "3tIp43gRMEbm",
        "outputId": "eb80d2ca-2aec-40c0-81d7-0224bc5b6b7d"
      },
      "execution_count": 184,
      "outputs": [
        {
          "output_type": "execute_result",
          "data": {
            "text/plain": [
              "Private             32568\n",
              "Self-emp-not-inc     3669\n",
              "Local-gov            3074\n",
              "Other                2616\n",
              "State-gov            1958\n",
              "Self-emp-inc         1664\n",
              "Federal-gov          1426\n",
              "Without-pay            19\n",
              "Never-worked            9\n",
              "Name: workclass, dtype: int64"
            ]
          },
          "metadata": {},
          "execution_count": 184
        }
      ]
    },
    {
      "cell_type": "code",
      "source": [
        "df.drop(df[df['workclass'] == 'Without-pay'].index, inplace = True)\n",
        "df.drop(df[df['workclass'] == 'Never-worked'].index, inplace = True)"
      ],
      "metadata": {
        "id": "kzAfqY53OJ9o"
      },
      "execution_count": 185,
      "outputs": []
    },
    {
      "cell_type": "code",
      "source": [
        "df['workclass'].value_counts()"
      ],
      "metadata": {
        "colab": {
          "base_uri": "https://localhost:8080/"
        },
        "id": "fwnTQzqHOx1Q",
        "outputId": "1fda3521-873d-4c6d-9bba-59b4695b35a7"
      },
      "execution_count": 186,
      "outputs": [
        {
          "output_type": "execute_result",
          "data": {
            "text/plain": [
              "Private             32568\n",
              "Self-emp-not-inc     3669\n",
              "Local-gov            3074\n",
              "Other                2616\n",
              "State-gov            1958\n",
              "Self-emp-inc         1664\n",
              "Federal-gov          1426\n",
              "Name: workclass, dtype: int64"
            ]
          },
          "metadata": {},
          "execution_count": 186
        }
      ]
    },
    {
      "cell_type": "code",
      "source": [
        "df['native-country'].value_counts()"
      ],
      "metadata": {
        "colab": {
          "base_uri": "https://localhost:8080/"
        },
        "id": "QPUNkl-1dioP",
        "outputId": "a2829fbe-2c26-4abe-9606-9ef5d9b35955"
      },
      "execution_count": 187,
      "outputs": [
        {
          "output_type": "execute_result",
          "data": {
            "text/plain": [
              "United-States                 42779\n",
              "?                               805\n",
              "Mexico                          518\n",
              "Philippines                     273\n",
              "Germany                         204\n",
              "Canada                          176\n",
              "Puerto-Rico                     157\n",
              "India                           150\n",
              "England                         125\n",
              "Cuba                            118\n",
              "South                           113\n",
              "China                           112\n",
              "Jamaica                         103\n",
              "El-Salvador                     100\n",
              "Japan                            91\n",
              "Italy                            82\n",
              "Poland                           81\n",
              "Vietnam                          79\n",
              "Columbia                         79\n",
              "Dominican-Republic               74\n",
              "Taiwan                           65\n",
              "Haiti                            65\n",
              "Iran                             59\n",
              "Guatemala                        54\n",
              "Portugal                         46\n",
              "Greece                           45\n",
              "Peru                             44\n",
              "Nicaragua                        43\n",
              "Ecuador                          40\n",
              "France                           37\n",
              "Ireland                          35\n",
              "Thailand                         29\n",
              "Hong                             27\n",
              "Trinadad&Tobago                  25\n",
              "Cambodia                         25\n",
              "Outlying-US(Guam-USVI-etc)       23\n",
              "Yugoslavia                       21\n",
              "Scotland                         20\n",
              "Hungary                          18\n",
              "Laos                             18\n",
              "Honduras                         16\n",
              "Holand-Netherlands                1\n",
              "Name: native-country, dtype: int64"
            ]
          },
          "metadata": {},
          "execution_count": 187
        }
      ]
    },
    {
      "cell_type": "code",
      "source": [
        "df[\"native-country\"] = df[\"native-country\"].replace(\"?\",\"Other\")\n",
        "df[\"native-country\"].value_counts()"
      ],
      "metadata": {
        "colab": {
          "base_uri": "https://localhost:8080/"
        },
        "id": "UVKt5_XhdyNM",
        "outputId": "2e454044-ff14-4799-c926-986a4e76ff8a"
      },
      "execution_count": 188,
      "outputs": [
        {
          "output_type": "execute_result",
          "data": {
            "text/plain": [
              "United-States                 42779\n",
              "Other                           805\n",
              "Mexico                          518\n",
              "Philippines                     273\n",
              "Germany                         204\n",
              "Canada                          176\n",
              "Puerto-Rico                     157\n",
              "India                           150\n",
              "England                         125\n",
              "Cuba                            118\n",
              "South                           113\n",
              "China                           112\n",
              "Jamaica                         103\n",
              "El-Salvador                     100\n",
              "Japan                            91\n",
              "Italy                            82\n",
              "Poland                           81\n",
              "Vietnam                          79\n",
              "Columbia                         79\n",
              "Dominican-Republic               74\n",
              "Taiwan                           65\n",
              "Haiti                            65\n",
              "Iran                             59\n",
              "Guatemala                        54\n",
              "Portugal                         46\n",
              "Greece                           45\n",
              "Peru                             44\n",
              "Nicaragua                        43\n",
              "Ecuador                          40\n",
              "France                           37\n",
              "Ireland                          35\n",
              "Thailand                         29\n",
              "Hong                             27\n",
              "Trinadad&Tobago                  25\n",
              "Cambodia                         25\n",
              "Outlying-US(Guam-USVI-etc)       23\n",
              "Yugoslavia                       21\n",
              "Scotland                         20\n",
              "Hungary                          18\n",
              "Laos                             18\n",
              "Honduras                         16\n",
              "Holand-Netherlands                1\n",
              "Name: native-country, dtype: int64"
            ]
          },
          "metadata": {},
          "execution_count": 188
        }
      ]
    },
    {
      "cell_type": "code",
      "source": [
        "df.drop(df[df['native-country'] == 'Holand-Netherlands'].index, inplace = True)"
      ],
      "metadata": {
        "id": "Puw_rx6IeSDm"
      },
      "execution_count": 189,
      "outputs": []
    },
    {
      "cell_type": "code",
      "source": [
        "df['native-country'].value_counts()"
      ],
      "metadata": {
        "colab": {
          "base_uri": "https://localhost:8080/"
        },
        "id": "VyQO5X-tesGg",
        "outputId": "e8b09aad-8d8e-477d-8bca-c64d7758dfdf"
      },
      "execution_count": 190,
      "outputs": [
        {
          "output_type": "execute_result",
          "data": {
            "text/plain": [
              "United-States                 42779\n",
              "Other                           805\n",
              "Mexico                          518\n",
              "Philippines                     273\n",
              "Germany                         204\n",
              "Canada                          176\n",
              "Puerto-Rico                     157\n",
              "India                           150\n",
              "England                         125\n",
              "Cuba                            118\n",
              "South                           113\n",
              "China                           112\n",
              "Jamaica                         103\n",
              "El-Salvador                     100\n",
              "Japan                            91\n",
              "Italy                            82\n",
              "Poland                           81\n",
              "Columbia                         79\n",
              "Vietnam                          79\n",
              "Dominican-Republic               74\n",
              "Taiwan                           65\n",
              "Haiti                            65\n",
              "Iran                             59\n",
              "Guatemala                        54\n",
              "Portugal                         46\n",
              "Greece                           45\n",
              "Peru                             44\n",
              "Nicaragua                        43\n",
              "Ecuador                          40\n",
              "France                           37\n",
              "Ireland                          35\n",
              "Thailand                         29\n",
              "Hong                             27\n",
              "Cambodia                         25\n",
              "Trinadad&Tobago                  25\n",
              "Outlying-US(Guam-USVI-etc)       23\n",
              "Yugoslavia                       21\n",
              "Scotland                         20\n",
              "Hungary                          18\n",
              "Laos                             18\n",
              "Honduras                         16\n",
              "Name: native-country, dtype: int64"
            ]
          },
          "metadata": {},
          "execution_count": 190
        }
      ]
    },
    {
      "cell_type": "code",
      "source": [
        "df['age'].value_counts()"
      ],
      "metadata": {
        "colab": {
          "base_uri": "https://localhost:8080/"
        },
        "id": "ETG_l9uylLKB",
        "outputId": "f77d37d7-a62a-457a-a4bd-621aa32c30e7"
      },
      "execution_count": 191,
      "outputs": [
        {
          "output_type": "execute_result",
          "data": {
            "text/plain": [
              "36    1314\n",
              "35    1313\n",
              "33    1294\n",
              "23    1290\n",
              "34    1282\n",
              "      ... \n",
              "85       5\n",
              "88       5\n",
              "87       3\n",
              "89       2\n",
              "86       1\n",
              "Name: age, Length: 74, dtype: int64"
            ]
          },
          "metadata": {},
          "execution_count": 191
        }
      ]
    },
    {
      "cell_type": "code",
      "source": [
        "sns.histplot(x=\"race\", data=df); # This line of code provides a univariate visual for this value"
      ],
      "metadata": {
        "colab": {
          "base_uri": "https://localhost:8080/",
          "height": 449
        },
        "id": "JXbxhnUgZNkC",
        "outputId": "bfc8cb25-a322-40db-ab75-a9018c9f0ca4"
      },
      "execution_count": 192,
      "outputs": [
        {
          "output_type": "display_data",
          "data": {
            "text/plain": [
              "<Figure size 640x480 with 1 Axes>"
            ],
            "image/png": "[encoded data removed]"
          },
          "metadata": {}
        }
      ]
    },
    {
      "cell_type": "markdown",
      "source": [
        "The majority of employees are white compared to any other race."
      ],
      "metadata": {
        "id": "UhMbQymILZQm"
      }
    },
    {
      "cell_type": "code",
      "source": [
        "sns.histplot(x=\"gender\", data=df); # This line of code provides a univariate visual for this value"
      ],
      "metadata": {
        "colab": {
          "base_uri": "https://localhost:8080/",
          "height": 449
        },
        "id": "3FLA4FkEZWKj",
        "outputId": "cbc86a0a-77a7-4d7e-b198-61092b17b57d"
      },
      "execution_count": 193,
      "outputs": [
        {
          "output_type": "display_data",
          "data": {
            "text/plain": [
              "<Figure size 640x480 with 1 Axes>"
            ],
            "image/png": "[encoded data removed]"
          },
          "metadata": {}
        }
      ]
    },
    {
      "cell_type": "markdown",
      "source": [
        "More than half of employees are males."
      ],
      "metadata": {
        "id": "EDCeNVcqMb1t"
      }
    },
    {
      "cell_type": "code",
      "source": [
        "sns.histplot(x=\"income\", data=df); # This line of code provides a univariate visual for this value"
      ],
      "metadata": {
        "colab": {
          "base_uri": "https://localhost:8080/",
          "height": 449
        },
        "id": "3x_lduTEZZWd",
        "outputId": "e6f9c49a-24d6-46a2-b7d0-0d2218669d64"
      },
      "execution_count": 194,
      "outputs": [
        {
          "output_type": "display_data",
          "data": {
            "text/plain": [
              "<Figure size 640x480 with 1 Axes>"
            ],
            "image/png": "[encoded data removed]"
          },
          "metadata": {}
        }
      ]
    },
    {
      "cell_type": "markdown",
      "source": [
        "The majority of the working class makes less than 50k. Roughly 12k people make over 50K."
      ],
      "metadata": {
        "id": "KRVvNTkyMpZH"
      }
    },
    {
      "cell_type": "code",
      "source": [
        "sns.histplot(x=\"workclass\", data=df); # This line of code provides a univariate visual for this value\n",
        "plt.xticks(rotation=45)"
      ],
      "metadata": {
        "colab": {
          "base_uri": "https://localhost:8080/",
          "height": 665
        },
        "id": "m01dFc5fM8Fq",
        "outputId": "bc6e3c4d-d906-4691-a657-277268482c6f"
      },
      "execution_count": 195,
      "outputs": [
        {
          "output_type": "execute_result",
          "data": {
            "text/plain": [
              "([0, 1, 2, 3, 4, 5, 6],\n",
              " [Text(0, 0, 'Private'),\n",
              "  Text(1, 0, 'Local-gov'),\n",
              "  Text(2, 0, 'Other'),\n",
              "  Text(3, 0, 'Self-emp-not-inc'),\n",
              "  Text(4, 0, 'Federal-gov'),\n",
              "  Text(5, 0, 'State-gov'),\n",
              "  Text(6, 0, 'Self-emp-inc')])"
            ]
          },
          "metadata": {},
          "execution_count": 195
        },
        {
          "output_type": "display_data",
          "data": {
            "text/plain": [
              "<Figure size 640x480 with 1 Axes>"
            ],
            "image/png": "[encoded data removed]"
          },
          "metadata": {}
        }
      ]
    },
    {
      "cell_type": "markdown",
      "source": [
        "##Identify Inconsistencies in Categorical Values"
      ],
      "metadata": {
        "id": "aGHKE7H2frGC"
      }
    },
    {
      "cell_type": "code",
      "source": [
        "#Create df copies in order to keep original data (df) intact\n",
        "eda_df = df.copy()\n",
        "ml_df = df.copy()\n",
        ""
      ],
      "metadata": {
        "id": "i8W-Ed1zdFfp"
      },
      "execution_count": 196,
      "outputs": []
    },
    {
      "cell_type": "code",
      "source": [
        "#Iterate through categorical columns to print values to determine if inconsistencies are present.\n",
        "cat_cols = [columns for columns in eda_df.columns if eda_df[columns].dtype=='object']\n",
        "\n",
        "for col in cat_cols:\n",
        "   print(f'{col}:')\n",
        "   print(eda_df[col].value_counts())\n",
        "   print('\\n')\n",
        "#print(cat_cols)"
      ],
      "metadata": {
        "colab": {
          "base_uri": "https://localhost:8080/"
        },
        "id": "bVmQxvbmZZOh",
        "outputId": "4446f12a-a352-479c-9c29-5504b34f6457"
      },
      "execution_count": 197,
      "outputs": [
        {
          "output_type": "stream",
          "name": "stdout",
          "text": [
            "workclass:\n",
            "Private             32567\n",
            "Self-emp-not-inc     3669\n",
            "Local-gov            3074\n",
            "Other                2616\n",
            "State-gov            1958\n",
            "Self-emp-inc         1664\n",
            "Federal-gov          1426\n",
            "Name: workclass, dtype: int64\n",
            "\n",
            "\n",
            "education:\n",
            "HS-grad         15754\n",
            "Some-college    10857\n",
            "Bachelors        8013\n",
            "HS               4607\n",
            "Masters          2656\n",
            "Assoc-voc        2060\n",
            "Assoc-acdm       1599\n",
            "Prof-school       834\n",
            "Doctorate         594\n",
            "Name: education, dtype: int64\n",
            "\n",
            "\n",
            "marital-status:\n",
            "Married-civ-spouse       21387\n",
            "Never-married            15700\n",
            "Divorced                  6479\n",
            "Separated                 1445\n",
            "Widowed                   1371\n",
            "Married-spouse-absent      555\n",
            "Married-AF-spouse           37\n",
            "Name: marital-status, dtype: int64\n",
            "\n",
            "\n",
            "occupation:\n",
            "Prof-specialty       6145\n",
            "Exec-managerial      6040\n",
            "Craft-repair         5825\n",
            "Adm-clerical         5566\n",
            "Sales                5433\n",
            "Other-service        4593\n",
            "Machine-op-inspct    2742\n",
            "Other                2616\n",
            "Transport-moving     2215\n",
            "Handlers-cleaners    1914\n",
            "Tech-support         1438\n",
            "Farming-fishing      1274\n",
            "Protective-serv       969\n",
            "Priv-house-serv       189\n",
            "Armed-Forces           15\n",
            "Name: occupation, dtype: int64\n",
            "\n",
            "\n",
            "race:\n",
            "White                 40207\n",
            "Black                  4512\n",
            "Asian-Pac-Islander     1457\n",
            "Amer-Indian-Eskimo      453\n",
            "Other                   345\n",
            "Name: race, dtype: int64\n",
            "\n",
            "\n",
            "gender:\n",
            "Male      31257\n",
            "Female    15717\n",
            "Name: gender, dtype: int64\n",
            "\n",
            "\n",
            "native-country:\n",
            "United-States                 42779\n",
            "Other                           805\n",
            "Mexico                          518\n",
            "Philippines                     273\n",
            "Germany                         204\n",
            "Canada                          176\n",
            "Puerto-Rico                     157\n",
            "India                           150\n",
            "England                         125\n",
            "Cuba                            118\n",
            "South                           113\n",
            "China                           112\n",
            "Jamaica                         103\n",
            "El-Salvador                     100\n",
            "Japan                            91\n",
            "Italy                            82\n",
            "Poland                           81\n",
            "Columbia                         79\n",
            "Vietnam                          79\n",
            "Dominican-Republic               74\n",
            "Taiwan                           65\n",
            "Haiti                            65\n",
            "Iran                             59\n",
            "Guatemala                        54\n",
            "Portugal                         46\n",
            "Greece                           45\n",
            "Peru                             44\n",
            "Nicaragua                        43\n",
            "Ecuador                          40\n",
            "France                           37\n",
            "Ireland                          35\n",
            "Thailand                         29\n",
            "Hong                             27\n",
            "Cambodia                         25\n",
            "Trinadad&Tobago                  25\n",
            "Outlying-US(Guam-USVI-etc)       23\n",
            "Yugoslavia                       21\n",
            "Scotland                         20\n",
            "Hungary                          18\n",
            "Laos                             18\n",
            "Honduras                         16\n",
            "Name: native-country, dtype: int64\n",
            "\n",
            "\n",
            "income:\n",
            "<=50K    35393\n",
            ">50K     11581\n",
            "Name: income, dtype: int64\n",
            "\n",
            "\n"
          ]
        }
      ]
    },
    {
      "cell_type": "markdown",
      "source": [
        "* No major inconsistencies present in categorical data"
      ],
      "metadata": {
        "id": "n553xiBnfvXV"
      }
    },
    {
      "cell_type": "markdown",
      "source": [
        "##Correlation Heatmap"
      ],
      "metadata": {
        "id": "nWqw4ocszeTg"
      }
    },
    {
      "cell_type": "code",
      "source": [
        "corr = df.corr(numeric_only = True)\n",
        "corr.round(2)\n",
        "fig, ax = plt.subplots(figsize=(10,10))\n",
        "sns.heatmap(corr, cmap = 'coolwarm', annot = True, ax=ax);"
      ],
      "metadata": {
        "colab": {
          "base_uri": "https://localhost:8080/",
          "height": 836
        },
        "id": "AfwaoxM2f6MN",
        "outputId": "1f01e083-6cbb-4acb-9fe4-7ffabf404d8d"
      },
      "execution_count": 198,
      "outputs": [
        {
          "output_type": "display_data",
          "data": {
            "text/plain": [
              "<Figure size 1000x1000 with 2 Axes>"
            ],
            "image/png": "[encoded data removed]"
          },
          "metadata": {}
        }
      ]
    },
    {
      "cell_type": "markdown",
      "source": [
        "##Visualizations"
      ],
      "metadata": {
        "id": "E1mFt0Yzzl1G"
      }
    },
    {
      "cell_type": "code",
      "source": [
        "\n",
        "# sns.scatterplot(data=df, x=\"income\", y=\"race\", hue=\"race\")\n",
        "fig,ax = plt.subplots(figsize=(10,6))\n",
        "#\n",
        "sns.countplot(data=df, x=\"income\", hue=\"race\")\n",
        "plt.setp(ax.get_xticklabels(), rotation = 0)\n",
        "# display plots\n",
        "plt.show()\n",
        "plt.tight_layout();"
      ],
      "metadata": {
        "colab": {
          "base_uri": "https://localhost:8080/",
          "height": 559
        },
        "id": "mIDrrKuwpDxX",
        "outputId": "063b91c4-2145-4ba6-d86c-f2e994dea528"
      },
      "execution_count": 199,
      "outputs": [
        {
          "output_type": "display_data",
          "data": {
            "text/plain": [
              "<Figure size 1000x600 with 1 Axes>"
            ],
            "image/png": "[encoded data removed]"
          },
          "metadata": {}
        },
        {
          "output_type": "display_data",
          "data": {
            "text/plain": [
              "<Figure size 640x480 with 0 Axes>"
            ]
          },
          "metadata": {}
        }
      ]
    },
    {
      "cell_type": "markdown",
      "source": [
        "This visualization shows the white race as the majority making 50k or less equally the same race makes 50k or more compared to other races. Virutally zero Others and Amer-Indian-Eskimo make 50k or more."
      ],
      "metadata": {
        "id": "eyk2t1ebsDh0"
      }
    },
    {
      "cell_type": "code",
      "source": [
        "# sns.scatterplot(data=df, x=\"education\", y=\"race\", hue=\"race\")\n",
        "fig,ax = plt.subplots(figsize=(10,6))\n",
        "#\n",
        "sns.countplot(data=df, x=\"income\", hue=\"occupation\")\n",
        "plt.setp(ax.get_xticklabels(), rotation = 45)\n",
        "# display plots\n",
        "plt.show()\n",
        "plt.tight_layout();"
      ],
      "metadata": {
        "colab": {
          "base_uri": "https://localhost:8080/",
          "height": 592
        },
        "id": "DzEFOX7AuoU0",
        "outputId": "82871498-bc9b-4cc0-d6b6-842a0b46366f"
      },
      "execution_count": 201,
      "outputs": [
        {
          "output_type": "display_data",
          "data": {
            "text/plain": [
              "<Figure size 1000x600 with 1 Axes>"
            ],
            "image/png": "[encoded data removed]"
          },
          "metadata": {}
        },
        {
          "output_type": "display_data",
          "data": {
            "text/plain": [
              "<Figure size 640x480 with 0 Axes>"
            ]
          },
          "metadata": {}
        }
      ]
    },
    {
      "cell_type": "markdown",
      "source": [
        "Correlation between occupation and income."
      ],
      "metadata": {
        "id": "JVTDUMPg1nPz"
      }
    },
    {
      "cell_type": "code",
      "source": [
        "\n",
        "# sns.scatterplot(data=df, x=\"education\", y=\"race\", hue=\"race\")\n",
        "fig,ax = plt.subplots(figsize=(10,6))\n",
        "#\n",
        "sns.countplot(data=df, x=\"income\", hue=\"education\")\n",
        "plt.setp(ax.get_xticklabels(), rotation = 45)\n",
        "# display plots\n",
        "plt.show()\n",
        "plt.tight_layout();"
      ],
      "metadata": {
        "colab": {
          "base_uri": "https://localhost:8080/",
          "height": 590
        },
        "id": "q3jYMMnlxNdT",
        "outputId": "4ab24d2f-7d7c-4502-d443-0dc4d7794edc"
      },
      "execution_count": 203,
      "outputs": [
        {
          "output_type": "display_data",
          "data": {
            "text/plain": [
              "<Figure size 1000x600 with 1 Axes>"
            ],
            "image/png": "[encoded data removed]"
          },
          "metadata": {}
        },
        {
          "output_type": "display_data",
          "data": {
            "text/plain": [
              "<Figure size 640x480 with 0 Axes>"
            ]
          },
          "metadata": {}
        }
      ]
    },
    {
      "cell_type": "markdown",
      "source": [
        "Here you can see a clear correlation between income and eduation. Very few people with a high school education (not grad) can still make over 50k."
      ],
      "metadata": {
        "id": "Xh3NLaUxyYwM"
      }
    }
  ]
}